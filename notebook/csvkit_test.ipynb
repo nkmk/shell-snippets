{
 "cells": [
  {
   "cell_type": "code",
   "execution_count": 1,
   "metadata": {
    "collapsed": true
   },
   "outputs": [],
   "source": [
    "# https://csvkit.readthedocs.io\n",
    "# $ pip install csvkit"
   ]
  },
  {
   "cell_type": "code",
   "execution_count": 2,
   "metadata": {},
   "outputs": [
    {
     "name": "stdout",
     "output_type": "stream",
     "text": [
      "a,b,c,d\n",
      "11,12,13,14\n",
      "21,22,23,24\n",
      "31,32,33,34"
     ]
    }
   ],
   "source": [
    "cat data/src/sample_header.csv"
   ]
  },
  {
   "cell_type": "code",
   "execution_count": 3,
   "metadata": {},
   "outputs": [
    {
     "name": "stdout",
     "output_type": "stream",
     "text": [
      "|  a |  b |  c |  d |\n",
      "| -- | -- | -- | -- |\n",
      "| 11 | 12 | 13 | 14 |\n",
      "| 21 | 22 | 23 | 24 |\n",
      "| 31 | 32 | 33 | 34 |\n"
     ]
    }
   ],
   "source": [
    "csvlook data/src/sample_header.csv"
   ]
  },
  {
   "cell_type": "code",
   "execution_count": 4,
   "metadata": {},
   "outputs": [
    {
     "name": "stdout",
     "output_type": "stream",
     "text": [
      "| line_numbers |  a |  b |  c |  d |\n",
      "| ------------ | -- | -- | -- | -- |\n",
      "|            1 | 11 | 12 | 13 | 14 |\n",
      "|            2 | 21 | 22 | 23 | 24 |\n",
      "|            3 | 31 | 32 | 33 | 34 |\n"
     ]
    }
   ],
   "source": [
    "csvlook data/src/sample_header.csv --linenumbers"
   ]
  },
  {
   "cell_type": "code",
   "execution_count": 5,
   "metadata": {},
   "outputs": [
    {
     "name": "stdout",
     "output_type": "stream",
     "text": [
      "|  c |  a |\n",
      "| -- | -- |\n",
      "| 13 | 11 |\n",
      "| 23 | 21 |\n",
      "| 33 | 31 |\n"
     ]
    }
   ],
   "source": [
    "< data/src/sample_header.csv csvcut -c c,a | csvlook"
   ]
  },
  {
   "cell_type": "code",
   "execution_count": 6,
   "metadata": {},
   "outputs": [
    {
     "name": "stdout",
     "output_type": "stream",
     "text": [
      "|  a |  d |\n",
      "| -- | -- |\n",
      "| 11 | 14 |\n",
      "| 21 | 24 |\n",
      "| 31 | 34 |\n"
     ]
    }
   ],
   "source": [
    "< data/src/sample_header.csv csvcut -c 1,4 | csvlook"
   ]
  },
  {
   "cell_type": "code",
   "execution_count": 7,
   "metadata": {},
   "outputs": [
    {
     "name": "stdout",
     "output_type": "stream",
     "text": [
      "1,3\n"
     ]
    }
   ],
   "source": [
    "seq 1 2 4 | paste -sd, -"
   ]
  },
  {
   "cell_type": "code",
   "execution_count": 8,
   "metadata": {},
   "outputs": [
    {
     "name": "stdout",
     "output_type": "stream",
     "text": [
      "|  a |  c |\n",
      "| -- | -- |\n",
      "| 11 | 13 |\n",
      "| 21 | 23 |\n",
      "| 31 | 33 |\n"
     ]
    }
   ],
   "source": [
    "< data/src/sample_header.csv csvcut -c $(seq 1 2 4 | paste -sd, -) | csvlook"
   ]
  },
  {
   "cell_type": "code",
   "execution_count": 9,
   "metadata": {},
   "outputs": [
    {
     "name": "stdout",
     "output_type": "stream",
     "text": [
      ",a,b,c,d\n",
      "ONE,11,12,13,14\n",
      "TWO,21,22,23,24\n",
      "THREE,31,32,33,34"
     ]
    }
   ],
   "source": [
    "cat data/src/sample_header_index.csv"
   ]
  },
  {
   "cell_type": "code",
   "execution_count": 10,
   "metadata": {},
   "outputs": [
    {
     "name": "stdout",
     "output_type": "stream",
     "text": [
      "/usr/local/lib/python3.6/site-packages/agate/utils.py:275: UnnamedColumnWarning: Column 0 has no name. Using \"a\".\n",
      "/usr/local/lib/python3.6/site-packages/agate/utils.py:291: DuplicateColumnWarning: Column name \"a\" already exists in Table. Column will be renamed to \"a_2\".\n",
      "| a     | a_2 |  b |  c |  d |\n",
      "| ----- | --- | -- | -- | -- |\n",
      "| ONE   |  11 | 12 | 13 | 14 |\n",
      "| TWO   |  21 | 22 | 23 | 24 |\n",
      "| THREE |  31 | 32 | 33 | 34 |\n"
     ]
    }
   ],
   "source": [
    "csvlook data/src/sample_header_index.csv"
   ]
  },
  {
   "cell_type": "code",
   "execution_count": 11,
   "metadata": {},
   "outputs": [
    {
     "name": "stdout",
     "output_type": "stream",
     "text": [
      "|  a |  c |\n",
      "| -- | -- |\n",
      "| 11 | 13 |\n",
      "| 21 | 23 |\n",
      "| 31 | 33 |\n"
     ]
    }
   ],
   "source": [
    "< data/src/sample_header_index.csv csvcut -c a,c | csvlook"
   ]
  },
  {
   "cell_type": "code",
   "execution_count": 12,
   "metadata": {},
   "outputs": [
    {
     "name": "stdout",
     "output_type": "stream",
     "text": [
      "|  a |  b |  c |  d |\n",
      "| -- | -- | -- | -- |\n",
      "| 11 | 12 | 13 | 14 |\n",
      "| 21 | 22 | 23 | 24 |\n",
      "| 31 | 32 | 33 | 34 |\n"
     ]
    }
   ],
   "source": [
    "< data/src/sample_header_index.csv csvcut -C 1 | csvlook"
   ]
  },
  {
   "cell_type": "code",
   "execution_count": 13,
   "metadata": {},
   "outputs": [
    {
     "name": "stdout",
     "output_type": "stream",
     "text": [
      "|  a |  b |  c |  d |\n",
      "| -- | -- | -- | -- |\n",
      "| 11 | 12 | 13 | 14 |\n",
      "| 21 | 22 | 23 | 24 |\n",
      "| 31 | 32 | 33 | 34 |\n"
     ]
    }
   ],
   "source": [
    "in2csv data/src/sample_header.xlsx | csvlook"
   ]
  }
 ],
 "metadata": {
  "kernelspec": {
   "display_name": "Bash",
   "language": "bash",
   "name": "bash"
  },
  "language_info": {
   "codemirror_mode": "shell",
   "file_extension": ".sh",
   "mimetype": "text/x-sh",
   "name": "bash"
  }
 },
 "nbformat": 4,
 "nbformat_minor": 2
}
