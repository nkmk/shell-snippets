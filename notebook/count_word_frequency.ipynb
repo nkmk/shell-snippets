{
 "cells": [
  {
   "cell_type": "code",
   "execution_count": 1,
   "metadata": {},
   "outputs": [
    {
     "name": "stdout",
     "output_type": "stream",
     "text": [
      "  13 that\n",
      "  11 the\n",
      "  10 we\n",
      "   8 to\n",
      "   8 here\n",
      "   7 a\n",
      "   6 and\n",
      "   5 of\n",
      "   5 nation\n",
      "   5 it\n"
     ]
    }
   ],
   "source": [
    "cat data/src/speech.txt | tr A-Z a-z | grep -oE '\\w+' | sort | uniq -c | sort -nr | head"
   ]
  }
 ],
 "metadata": {
  "kernelspec": {
   "display_name": "Bash",
   "language": "bash",
   "name": "bash"
  },
  "language_info": {
   "codemirror_mode": "shell",
   "file_extension": ".sh",
   "mimetype": "text/x-sh",
   "name": "bash"
  }
 },
 "nbformat": 4,
 "nbformat_minor": 2
}
